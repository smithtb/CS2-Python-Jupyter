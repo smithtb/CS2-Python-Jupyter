{
 "cells": [
  {
   "cell_type": "markdown",
   "metadata": {},
   "source": [
    "## Assignment 1 - Singly Linked List\n",
    "\n",
    "Complete the following singly-linked list implementation.\n",
    "\n",
    "Our implementation will have both a front and back (or head and tail) reference.\n",
    "![A singly-linked list with the head reference pointing to the first node and the tail reference pointing to the last node](https://wiki.cs.auckland.ac.nz/compsci105ss/images/8/8c/Tail-linked-list.PNG)\n",
    "\n",
    "Below is the <code>linked_list</code> class definition with the inner class definition for the <code>node</code> class. \n",
    "\n",
    "The only method necessary for the <code>node</code> class is the <code>\\__init\\__</code> method. Note that the node class doesn't get getters or setters as they are not needed.\n",
    "\n",
    "\n",
    "### Homework\n",
    "For this assignment, there are 4 functions which you _must_ write to finish the implementation of the <code>linked_list</code> class. They are noted in the code with the following numbers:\n",
    "\n",
    "**1.** Implement the <code>empty</code> method - it should return true if the list is empty and false otherwise.\n",
    "\n",
    "**2.** Implement the <code>push_back</code> method - it should add a node to the end of the list\n",
    "\n",
    "**3.** Implement the <code>pop_front</code> method - it should remove a node from the beginning of the list\n",
    "\n",
    "**4.** Implement the <code>pop_back</code> method - it should remove a node from the end of the list\n",
    "\n",
    "For **extra credit**, there are 2 optional pieces which may be completed within the <code>linked_list</code> class. They are noted in the code by the following:\n",
    "\n",
    "**EC1.**: In the <code>\\__init\\__</code> method, add in the elements of initial\n",
    "\n",
    "**EC2.** Implement the <code>\\__repr\\__</code> method\n",
    "\n",
    "See the Notes section at the very bottom for some helpful links explaining <code>\\__init\\__, \\__iter\\__, \\__next\\__, \\__str\\__, and \\__repr\\__</code>."
   ]
  },
  {
   "cell_type": "code",
   "execution_count": 2,
   "metadata": {
    "collapsed": true
   },
   "outputs": [],
   "source": [
    "from __future__ import print_function\n",
    "import unittest\n",
    "\n",
    "class linked_list:\n",
    "    class node:\n",
    "        def __init__ (self, value, next):\n",
    "            self.value = value\n",
    "            self.next = next\n",
    "            \n",
    "    def __init__(self, initial = None):\n",
    "        # EC1 (extra credit) - add in the elements of initial here\n",
    "        self.front = self.back = None\n",
    "        \n",
    "    def empty(self):\n",
    "        # 1 - delete 'pass' and add your code here\n",
    "        pass\n",
    "    def __iter__(self):\n",
    "        self.current = self.front\n",
    "        return self\n",
    "\n",
    "    def __next__(self):\n",
    "        if self.current:\n",
    "            tmp = self.current.value\n",
    "            self.current = self.current.next\n",
    "            return tmp\n",
    "        else:\n",
    "            raise StopIteration()\n",
    "            \n",
    "    def __str__(self):\n",
    "        return \",\".join(str(node) for node in self)\n",
    "\n",
    "    def __repr__(self):\n",
    "        # EC2 (extra credit) - delete 'pass' and add your code here \n",
    "        pass\n",
    "    \n",
    "    def push_front(self, value):\n",
    "        new = self.node(value, self.front)\n",
    "        if self.empty():\n",
    "            self.front = self.back = new\n",
    "        else:\n",
    "            self.front = new\n",
    "\n",
    "    def push_back(self, value):\n",
    "        # 2 - delete 'pass' and add your code here\n",
    "        pass\n",
    "\n",
    "    def pop_front(self):\n",
    "        # 3 - delete 'pass' and add your code here\n",
    "        pass\n",
    "\n",
    "    def pop_back(self):\n",
    "        # 4 - delete 'pass' and add your code here\n",
    "        pass"
   ]
  },
  {
   "cell_type": "markdown",
   "metadata": {},
   "source": [
    "## Congratulations!\n",
    "\n",
    "You implemented all of the required methods for the <code>linked_list</code> class. \n",
    "\n",
    "If you have not yet implemented the required methods, these tests should all fail.\n",
    "\n",
    "Your finished class should be able to pass all of the following unit tests.\n",
    "\n",
    "The tests are run at the end, keep reading to see!"
   ]
  },
  {
   "cell_type": "code",
   "execution_count": 5,
   "metadata": {
    "collapsed": false
   },
   "outputs": [
    {
     "name": "stderr",
     "output_type": "stream",
     "text": [
      "FFFFFFF\n",
      "======================================================================\n",
      "FAIL: test_none (__main__.test_linked_list)\n",
      "----------------------------------------------------------------------\n",
      "Traceback (most recent call last):\n",
      "  File \"<ipython-input-5-bb89458ef582>\", line 4, in test_none\n",
      "    self.assertTrue(linked_list().empty())\n",
      "AssertionError: None is not true\n",
      "\n",
      "======================================================================\n",
      "FAIL: test_pop_back_empty (__main__.test_linked_list)\n",
      "----------------------------------------------------------------------\n",
      "Traceback (most recent call last):\n",
      "  File \"<ipython-input-5-bb89458ef582>\", line 8, in test_pop_back_empty\n",
      "    self.assertRaises(RuntimeError, lambda: linked_list().pop_back())\n",
      "AssertionError: RuntimeError not raised by <lambda>\n",
      "\n",
      "======================================================================\n",
      "FAIL: test_pop_front_empty (__main__.test_linked_list)\n",
      "----------------------------------------------------------------------\n",
      "Traceback (most recent call last):\n",
      "  File \"<ipython-input-5-bb89458ef582>\", line 6, in test_pop_front_empty\n",
      "    self.assertRaises(RuntimeError, lambda: linked_list().pop_front())\n",
      "AssertionError: RuntimeError not raised by <lambda>\n",
      "\n",
      "======================================================================\n",
      "FAIL: test_push_back_pop_back (__main__.test_linked_list)\n",
      "----------------------------------------------------------------------\n",
      "Traceback (most recent call last):\n",
      "  File \"<ipython-input-5-bb89458ef582>\", line 45, in test_push_back_pop_back\n",
      "    self.assertEqual(ll.pop_back(),[3,2,1])\n",
      "AssertionError: None != [3, 2, 1]\n",
      "\n",
      "======================================================================\n",
      "FAIL: test_push_back_pop_front (__main__.test_linked_list)\n",
      "----------------------------------------------------------------------\n",
      "Traceback (most recent call last):\n",
      "  File \"<ipython-input-5-bb89458ef582>\", line 15, in test_push_back_pop_front\n",
      "    self.assertEqual(ll.__str__(), '1,2,3')\n",
      "AssertionError: '' != '1,2,3'\n",
      "+ 1,2,3\n",
      "\n",
      "======================================================================\n",
      "FAIL: test_push_front_pop_back (__main__.test_linked_list)\n",
      "----------------------------------------------------------------------\n",
      "Traceback (most recent call last):\n",
      "  File \"<ipython-input-5-bb89458ef582>\", line 35, in test_push_front_pop_back\n",
      "    self.assertEqual(ll.pop_back(), 1)\n",
      "AssertionError: None != 1\n",
      "\n",
      "======================================================================\n",
      "FAIL: test_push_front_pop_front (__main__.test_linked_list)\n",
      "----------------------------------------------------------------------\n",
      "Traceback (most recent call last):\n",
      "  File \"<ipython-input-5-bb89458ef582>\", line 25, in test_push_front_pop_front\n",
      "    self.assertEqual(ll.pop_front(), 3)\n",
      "AssertionError: None != 3\n",
      "\n",
      "----------------------------------------------------------------------\n",
      "Ran 7 tests in 0.033s\n",
      "\n",
      "FAILED (failures=7)\n"
     ]
    },
    {
     "data": {
      "text/plain": [
       "<unittest.main.TestProgram at 0x22595df8240>"
      ]
     },
     "execution_count": 5,
     "metadata": {},
     "output_type": "execute_result"
    }
   ],
   "source": [
    "import unittest\n",
    "class test_linked_list (unittest.TestCase):\n",
    "    def test_none(self):\n",
    "        self.assertTrue(linked_list().empty())\n",
    "    def test_pop_front_empty(self):\n",
    "        self.assertRaises(RuntimeError, lambda: linked_list().pop_front())\n",
    "    def test_pop_back_empty(self):\n",
    "        self.assertRaises(RuntimeError, lambda: linked_list().pop_back())\n",
    "    def test_push_back_pop_front(self):\n",
    "        ll = linked_list()\n",
    "        ll.push_back(1)\n",
    "        ll.push_back(2)\n",
    "        ll.push_back(3)\n",
    "        self.assertFalse(ll.empty())\n",
    "        self.assertEqual(ll.__str__(), '1,2,3')\n",
    "        self.assertEqual(ll.pop_front(), 1)\n",
    "        self.assertEqual(ll.pop_front(), 2)\n",
    "        self.assertEqual(ll.pop_front(), 3)\n",
    "        self.assertTrue(ll.empty())\n",
    "    def test_push_front_pop_front(self):\n",
    "        ll = linked_list()\n",
    "        ll.push_front(1)\n",
    "        ll.push_front(2)\n",
    "        ll.push_front(3)\n",
    "        self.assertEqual(ll.pop_front(), 3)\n",
    "        self.assertEqual(ll.pop_front(), 2)\n",
    "        self.assertEqual(ll.pop_front(), 1)\n",
    "        self.assertTrue(ll.empty())\n",
    "    def test_push_front_pop_back(self):\n",
    "        ll = linked_list()\n",
    "        ll.push_front(1)\n",
    "        ll.push_front(2)\n",
    "        ll.push_front(3)\n",
    "        self.assertFalse(ll.empty())\n",
    "        self.assertEqual(ll.pop_back(), 1)\n",
    "        self.assertEqual(ll.pop_back(), 2)\n",
    "        self.assertEqual(ll.pop_back(), 3)\n",
    "        self.assertTrue(ll.empty())\n",
    "    def test_push_back_pop_back(self):\n",
    "        ll = linked_list()\n",
    "        ll.push_back(1)\n",
    "        ll.push_back(\"foo\")\n",
    "        ll.push_back([3,2,1])\n",
    "        self.assertFalse(ll.empty())\n",
    "        self.assertEqual(ll.pop_back(),[3,2,1])\n",
    "        self.assertEqual(ll.pop_back(), \"foo\")\n",
    "        self.assertEqual(ll.pop_back(), 1)\n",
    "        self.assertTrue(ll.empty())\n",
    "        \n",
    "unittest.main(argv=[''], exit=False)"
   ]
  },
  {
   "cell_type": "markdown",
   "metadata": {},
   "source": [
    "Below there is a function, <code>fact</code> which uses our <code>linked_list</code> class to calculate $n!$ for $n > 0$ by calling <code>fact(n)</code>"
   ]
  },
  {
   "cell_type": "code",
   "execution_count": null,
   "metadata": {
    "collapsed": true
   },
   "outputs": [],
   "source": [
    "def fact(a):\n",
    "    if a < 0: raise ValueError(\"Less than zero\")\n",
    "    if a == 0 or a == 1: return 1\n",
    "\n",
    "    stack = linked_list()\n",
    "    while a > 1:\n",
    "        stack.push_front(a)\n",
    "        a -= 1\n",
    "\n",
    "    result = 1\n",
    "    while not stack.empty():\n",
    "        result *= stack.pop_front()\n",
    "\n",
    "    return result"
   ]
  },
  {
   "cell_type": "markdown",
   "metadata": {},
   "source": [
    "Here are some unit tests for <code>factorial</code> which should all pass (once the <code>linked_list</code> class is implemented) as well."
   ]
  },
  {
   "cell_type": "code",
   "execution_count": null,
   "metadata": {
    "collapsed": true
   },
   "outputs": [],
   "source": [
    "import unittest\n",
    "class test_factorial (unittest.TestCase):\n",
    "    def test_less_than_zero(self):\n",
    "        self.assertRaises(ValueError, lambda: fact(-1))\n",
    "    def test_zero(self):\n",
    "        self.assertEqual(fact(0), 1)\n",
    "    def test_one(self):\n",
    "        self.assertEqual(fact(1), 1)\n",
    "    def test_two(self):\n",
    "        self.assertEqual(fact(2), 2)\n",
    "    def test_10(self):\n",
    "        self.assertEqual(fact(10), 10*9*8*7*6*5*4*3*2*1)"
   ]
  },
  {
   "cell_type": "markdown",
   "metadata": {},
   "source": [
    "This last section of our code is where we can run or test code now that we have defined everything needed above.\n",
    "\n",
    "Note the first line:\n",
    "```python\n",
    "unittest.main(argv=[''], exit=False)\n",
    "```\n",
    "This line will run all unit tests defined in this assignment."
   ]
  },
  {
   "cell_type": "code",
   "execution_count": null,
   "metadata": {
    "collapsed": true
   },
   "outputs": [],
   "source": [
    "unittest.main(argv=[''], exit=False)\n",
    "print (fact(1))\n",
    "print (fact(2))\n",
    "print (fact(100))"
   ]
  },
  {
   "cell_type": "markdown",
   "metadata": {},
   "source": [
    "### Notes:\n",
    "\n",
    "1. #### \\_\\_init\\_\\_\n",
    "See 9.3.2 Class Objects in [The Python Tutorial - Classes](https://docs.python.org/3/tutorial/classes.html) for an explanation of the <code>\\__init\\__</code> method present in both classes.\n",
    "\n",
    "2. #### \\_\\_iter\\_\\_ and \\_\\_next\\_\\_\n",
    "See 9.8 Iterators in [The Python Tutorial - Classes](https://docs.python.org/3/tutorial/classes.html) for an explanation of the <code>\\__iter\\__</code> and <code>\\__next\\__</code> methods.\n",
    "\n",
    "3. #### \\_\\_str\\_\\_ and \\_\\_repr\\_\\_\n",
    "See 3.3 Special method names in [The Python Language Reference - Data model](https://docs.python.org/3/reference/datamodel.html) for documentation on the <code>\\__str\\__</code> and <code>\\__repr\\__</code> special methods\n",
    "\n",
    "\n",
    "#### References:\n",
    "Image of singly-linked list with head and tail borrowed from:\n",
    "https://wiki.cs.auckland.ac.nz/compsci105ss/index.php/Linked_Lists"
   ]
  }
 ],
 "metadata": {
  "kernelspec": {
   "display_name": "Python [default]",
   "language": "python",
   "name": "python3"
  },
  "language_info": {
   "codemirror_mode": {
    "name": "ipython",
    "version": 3
   },
   "file_extension": ".py",
   "mimetype": "text/x-python",
   "name": "python",
   "nbconvert_exporter": "python",
   "pygments_lexer": "ipython3",
   "version": "3.6.0"
  }
 },
 "nbformat": 4,
 "nbformat_minor": 2
}
