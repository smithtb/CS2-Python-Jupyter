{
 "cells": [
  {
   "cell_type": "markdown",
   "metadata": {},
   "source": [
    "## Assignment 2 - Hash Map\n",
    "\n",
    "Complete the following hash map implementation.\n",
    "\n",
    "### Homework\n",
    "For this assignment, there are 6 functions which you _must_ write to finish the implementation of the <code>hash_set</code> class.\n",
    "\n",
    "**1.** Implement the <code>\\__len\\__(self)</code> method - should return the length (# of items) of a hash set\n",
    "\n",
    "**2.** Implement the <code>\\__rehash(self)</code> method - should double the size of a hash set and add existing items\n",
    "\n",
    "**3.** Implement the <code>\\__setitem\\__(self, key, value)</code> method - should assign <code>value</code> to <code>self[key]</code> and should rehash when load > 75%\n",
    "\n",
    "**4.** Implement the <code>\\__contains\\__(self, key)</code> method - should return <code>True</code> if <code>key</code> is in <code>self</code> and <code>False</code> otherwise \n",
    "\n",
    "**5.** Implement the <code>\\__getitem\\__(self, key)</code> method - should return the <code>value</code> assigned to <code>self[key]</code>\n",
    "\n",
    "**6.** Implement the <code>\\__delitem\\__(self, key)</code> method - should delete the <code>key</code> and <code>value</code> pair assigned to <code>self[key]</code> and reduce the size of the hash set when load < 25%\n",
    "\n",
    "See the Notes section at the very bottom for some helpful links explaining some of the methods in <code>hash_set</code> you may not have seen before."
   ]
  },
  {
   "cell_type": "code",
   "execution_count": 10,
   "metadata": {
    "collapsed": true
   },
   "outputs": [],
   "source": [
    "from __future__ import print_function\n",
    "import unittest\n",
    "\n",
    "def run_unittest(c):\n",
    "    suite = unittest.TestLoader().loadTestsFromTestCase(c)\n",
    "    unittest.TextTestRunner().run(suite)\n",
    "\n",
    "'''\n",
    "Description:\n",
    "Author:\n",
    "Version:\n",
    "Help received from:\n",
    "Help provided to:\n",
    "'''\n",
    "\n",
    "class hash_set:\n",
    "    \n",
    "    def __init__(self, init=None):\n",
    "        self.__limit = 10\n",
    "        self.__items = [[] for _ in range(self.__limit)]\n",
    "        self.__count = 0\n",
    "\n",
    "        if init:\n",
    "            for i in init:\n",
    "                self.__setitem__(i[0], i[1])\n",
    "\n",
    "    def __len__(self):\n",
    "        pass\n",
    "\n",
    "    def __flattened(self):\n",
    "        return [item for inner in self.__items for item in inner]\n",
    "\n",
    "    def __iter__(self): \n",
    "        return(iter(self.__flattened())) \n",
    "    \n",
    "    def __str__(self): \n",
    "        return(str(self.__flattened()))"
   ]
  },
  {
   "cell_type": "markdown",
   "metadata": {},
   "source": [
    "# Testing\n",
    "\n",
    "If you have not yet implemented the required methods, these tests should all fail.\n",
    "\n",
    "Your finished class should be able to pass all of the following unit tests."
   ]
  },
  {
   "cell_type": "markdown",
   "metadata": {},
   "source": [
    "## C-level work"
   ]
  },
  {
   "cell_type": "code",
   "execution_count": 15,
   "metadata": {
    "collapsed": false
   },
   "outputs": [
    {
     "name": "stderr",
     "output_type": "stream",
     "text": [
      ".\n",
      "----------------------------------------------------------------------\n",
      "Ran 1 test in 0.005s\n",
      "\n",
      "OK\n"
     ]
    }
   ],
   "source": [
    "class test_empty(unittest.TestCase):\n",
    "    def test(self):\n",
    "        self.assertEqual(len(hash_set()), 0)\n",
    "        \n",
    "run_unittest(test_empty)"
   ]
  },
  {
   "cell_type": "markdown",
   "metadata": {},
   "source": [
    "Next test"
   ]
  },
  {
   "cell_type": "code",
   "execution_count": 16,
   "metadata": {
    "collapsed": false
   },
   "outputs": [
    {
     "name": "stderr",
     "output_type": "stream",
     "text": [
      ".\n",
      "----------------------------------------------------------------------\n",
      "Ran 1 test in 0.004s\n",
      "\n",
      "OK\n"
     ]
    }
   ],
   "source": [
    "class test_add_one(unittest.TestCase):\n",
    "    def test(self):\n",
    "        s = hash_set()\n",
    "        s[1] = \"one\"\n",
    "        self.assertEqual(len(s), 1)\n",
    "        self.assertEqual(s[1], \"one\")\n",
    "        \n",
    "run_unittest(test_add_one)"
   ]
  },
  {
   "cell_type": "markdown",
   "metadata": {},
   "source": [
    "Next test"
   ]
  },
  {
   "cell_type": "code",
   "execution_count": 17,
   "metadata": {
    "collapsed": false
   },
   "outputs": [
    {
     "name": "stderr",
     "output_type": "stream",
     "text": [
      ".\n",
      "----------------------------------------------------------------------\n",
      "Ran 1 test in 0.003s\n",
      "\n",
      "OK\n"
     ]
    }
   ],
   "source": [
    "class test_add_two(unittest.TestCase):\n",
    "    def test(self):\n",
    "        s = hash_set()\n",
    "        s[1] = \"one\"\n",
    "        s[2] = \"two\"\n",
    "        self.assertEqual(len(s), 2)\n",
    "        \n",
    "run_unittest(test_add_two)"
   ]
  },
  {
   "cell_type": "markdown",
   "metadata": {},
   "source": [
    "Next test"
   ]
  },
  {
   "cell_type": "code",
   "execution_count": 18,
   "metadata": {
    "collapsed": false
   },
   "outputs": [
    {
     "name": "stderr",
     "output_type": "stream",
     "text": [
      "F\n",
      "======================================================================\n",
      "FAIL: test (__main__.test_add_twice)\n",
      "----------------------------------------------------------------------\n",
      "Traceback (most recent call last):\n",
      "  File \"<ipython-input-18-fad042ca9383>\", line 6, in test\n",
      "    self.assertEqual(len(s), 1)\n",
      "AssertionError: 2 != 1\n",
      "\n",
      "----------------------------------------------------------------------\n",
      "Ran 1 test in 0.004s\n",
      "\n",
      "FAILED (failures=1)\n"
     ]
    }
   ],
   "source": [
    "class test_add_twice(unittest.TestCase):\n",
    "    def test(self):\n",
    "        s = hash_set()\n",
    "        s[1] = \"one\"\n",
    "        s[1] = \"one\"\n",
    "        self.assertEqual(len(s), 1)\n",
    "        \n",
    "run_unittest(test_add_twice)"
   ]
  },
  {
   "cell_type": "markdown",
   "metadata": {},
   "source": [
    "Next test"
   ]
  },
  {
   "cell_type": "code",
   "execution_count": 19,
   "metadata": {
    "collapsed": false
   },
   "outputs": [
    {
     "name": "stderr",
     "output_type": "stream",
     "text": [
      "F\n",
      "======================================================================\n",
      "FAIL: test (__main__.test_remove)\n",
      "----------------------------------------------------------------------\n",
      "Traceback (most recent call last):\n",
      "  File \"<ipython-input-19-3586be5c2d93>\", line 6, in test\n",
      "    self.assertRaises(KeyError, lambda: s.__delitem__(\"two\"))\n",
      "AssertionError: KeyError not raised by <lambda>\n",
      "\n",
      "----------------------------------------------------------------------\n",
      "Ran 1 test in 0.006s\n",
      "\n",
      "FAILED (failures=1)\n"
     ]
    }
   ],
   "source": [
    "class test_remove(unittest.TestCase):\n",
    "    def test(self):\n",
    "        s = hash_set()\n",
    "        s[\"one\"] = 1\n",
    "        del s[\"one\"]\n",
    "        self.assertRaises(KeyError, lambda: s.__delitem__(\"two\"))\n",
    "        # this doesn't work:\n",
    "        # self.assertRaises(KeyError, lambda: del s[\"two\"])\n",
    "        self.assertEqual(len(s), 0)\n",
    "        \n",
    "run_unittest(test_remove)"
   ]
  },
  {
   "cell_type": "markdown",
   "metadata": {},
   "source": [
    "Next test"
   ]
  },
  {
   "cell_type": "code",
   "execution_count": 20,
   "metadata": {
    "collapsed": false
   },
   "outputs": [
    {
     "name": "stderr",
     "output_type": "stream",
     "text": [
      ".\n",
      "----------------------------------------------------------------------\n",
      "Ran 1 test in 0.005s\n",
      "\n",
      "OK\n"
     ]
    }
   ],
   "source": [
    "class test_one_in(unittest.TestCase):\n",
    "    def test(self):\n",
    "        s = hash_set()\n",
    "        s[\"one\"] = 1\n",
    "        self.assertTrue(\"one\" in s)\n",
    "        self.assertFalse(\"two\" in s)\n",
    "        self.assertRaises(KeyError, lambda: s[0])\n",
    "        \n",
    "run_unittest(test_one_in)"
   ]
  },
  {
   "cell_type": "markdown",
   "metadata": {},
   "source": [
    "Next test"
   ]
  },
  {
   "cell_type": "code",
   "execution_count": 21,
   "metadata": {
    "collapsed": false
   },
   "outputs": [
    {
     "name": "stderr",
     "output_type": "stream",
     "text": [
      "F\n",
      "======================================================================\n",
      "FAIL: test (__main__.test_collide)\n",
      "----------------------------------------------------------------------\n",
      "Traceback (most recent call last):\n",
      "  File \"<ipython-input-21-2396baafd9e5>\", line 8, in test\n",
      "    self.assertTrue(10 in s)\n",
      "AssertionError: False is not true\n",
      "\n",
      "----------------------------------------------------------------------\n",
      "Ran 1 test in 0.005s\n",
      "\n",
      "FAILED (failures=1)\n"
     ]
    }
   ],
   "source": [
    "class test_collide(unittest.TestCase):\n",
    "    def test(self):\n",
    "        s = hash_set()\n",
    "        s[0] = \"zero\"\n",
    "        s[10] = \"ten\"\n",
    "        self.assertEqual(len(s), 2)\n",
    "        self.assertTrue(0 in s)\n",
    "        self.assertTrue(10 in s)\n",
    "        self.assertFalse(20 in s)\n",
    "        \n",
    "run_unittest(test_collide)"
   ]
  },
  {
   "cell_type": "markdown",
   "metadata": {},
   "source": [
    "Next test"
   ]
  },
  {
   "cell_type": "code",
   "execution_count": 22,
   "metadata": {
    "collapsed": false
   },
   "outputs": [
    {
     "name": "stderr",
     "output_type": "stream",
     "text": [
      ".\n",
      "----------------------------------------------------------------------\n",
      "Ran 1 test in 0.005s\n",
      "\n",
      "OK\n"
     ]
    }
   ],
   "source": [
    "class test_rehash(unittest.TestCase):\n",
    "    def test(self):\n",
    "        s = hash_set()\n",
    "        s[0] = \"zero\"; s[10] = \"ten\"; s[1] = \"one\"; s[2] = \"two\"\n",
    "        s[3] = \"three\"; s[4] = \"four\"; s[5] = \"five\"; s[6] = \"six\"\n",
    "        s[7] = \"seven\"; s[8] = \"eight\"; s[9] = \"nine\"; s[11] = \"eleven\"\n",
    "        self.assertEqual(len(s), 12)\n",
    "        expected = \\\n",
    "'''[[0, 'zero'], [1, 'one'], [2, 'two'], [3, 'three'], \\\n",
    "[4, 'four'], [5, 'five'], [6, 'six'], [7, 'seven'], \\\n",
    "[8, 'eight'], [9, 'nine'], [10, 'ten'], [11, 'eleven']]'''\n",
    "        self.assertEqual(str(s), expected)\n",
    "        t = hash_set(s)\n",
    "        self.assertEqual(str(t), expected)\n",
    "        \n",
    "run_unittest(test_rehash)"
   ]
  },
  {
   "cell_type": "markdown",
   "metadata": {},
   "source": [
    "Next test"
   ]
  },
  {
   "cell_type": "code",
   "execution_count": 23,
   "metadata": {
    "collapsed": false
   },
   "outputs": [
    {
     "name": "stderr",
     "output_type": "stream",
     "text": [
      ".\n",
      "----------------------------------------------------------------------\n",
      "Ran 1 test in 0.004s\n",
      "\n",
      "OK\n"
     ]
    }
   ],
   "source": [
    "class test_store_false(unittest.TestCase):\n",
    "    def test(self):\n",
    "        s = hash_set()\n",
    "        s[1] = False\n",
    "        self.assertTrue(1 in s)\n",
    "        self.assertFalse(s[1])\n",
    "        \n",
    "run_unittest(test_store_false)"
   ]
  },
  {
   "cell_type": "markdown",
   "metadata": {},
   "source": [
    "Next test"
   ]
  },
  {
   "cell_type": "code",
   "execution_count": 24,
   "metadata": {
    "collapsed": false
   },
   "outputs": [
    {
     "name": "stderr",
     "output_type": "stream",
     "text": [
      ".\n",
      "----------------------------------------------------------------------\n",
      "Ran 1 test in 0.005s\n",
      "\n",
      "OK\n"
     ]
    }
   ],
   "source": [
    "class test_store_none(unittest.TestCase):\n",
    "    def test(self):\n",
    "        s = hash_set()\n",
    "        s[1] = None\n",
    "        self.assertTrue(1 in s)\n",
    "        self.assertEqual(s[1], None)\n",
    "        \n",
    "run_unittest(test_store_none)"
   ]
  },
  {
   "cell_type": "markdown",
   "metadata": {},
   "source": [
    "Next test"
   ]
  },
  {
   "cell_type": "code",
   "execution_count": 25,
   "metadata": {
    "collapsed": false
   },
   "outputs": [
    {
     "name": "stderr",
     "output_type": "stream",
     "text": [
      ".\n",
      "----------------------------------------------------------------------\n",
      "Ran 1 test in 0.004s\n",
      "\n",
      "OK\n"
     ]
    }
   ],
   "source": [
    "class test_none_key(unittest.TestCase):\n",
    "    def test(self):\n",
    "        s = hash_set()\n",
    "        s[None] = 1\n",
    "        self.assertTrue(None in s)\n",
    "        self.assertEqual(s[None], 1)\n",
    "        \n",
    "run_unittest(test_none_key)"
   ]
  },
  {
   "cell_type": "markdown",
   "metadata": {},
   "source": [
    "Next test"
   ]
  },
  {
   "cell_type": "code",
   "execution_count": 26,
   "metadata": {
    "collapsed": false
   },
   "outputs": [
    {
     "name": "stderr",
     "output_type": "stream",
     "text": [
      ".\n",
      "----------------------------------------------------------------------\n",
      "Ran 1 test in 0.004s\n",
      "\n",
      "OK\n"
     ]
    }
   ],
   "source": [
    "class test_False_key(unittest.TestCase):\n",
    "    def test(self):\n",
    "        s = hash_set()\n",
    "        s[False] = 1\n",
    "        self.assertTrue(False in s)\n",
    "        self.assertEqual(s[False], 1)\n",
    "        \n",
    "run_unittest(test_False_key)"
   ]
  },
  {
   "cell_type": "markdown",
   "metadata": {},
   "source": [
    "### Notes:\n",
    "\n",
    "1. #### <code>\\_\\_len\\_\\_, \\_\\_getitem\\_\\_, \\_\\_setitem\\_\\_, \\_\\_delitem\\_\\_, and \\_\\_contains\\_\\_</code>\n",
    "See 3.3.6 Emulating container types in [The Python Language Reference - Data model](https://docs.python.org/3/reference/datamodel.html)\n",
    "\n",
    "2. #### <code>\\_\\_rehash\\_\\_</code>\n",
    "See 5.5.2 Collision Resolution in [Problem Solving with Algorithms and Data Structures using Python- 5.5 Hashing](http://interactivepython.org/runestone/static/pythonds/SortSearch/Hashing.html) for a general explanation of rehashing"
   ]
  }
 ],
 "metadata": {
  "kernelspec": {
   "display_name": "Python [default]",
   "language": "python",
   "name": "python3"
  },
  "language_info": {
   "codemirror_mode": {
    "name": "ipython",
    "version": 3
   },
   "file_extension": ".py",
   "mimetype": "text/x-python",
   "name": "python",
   "nbconvert_exporter": "python",
   "pygments_lexer": "ipython3",
   "version": "3.6.0"
  }
 },
 "nbformat": 4,
 "nbformat_minor": 2
}
