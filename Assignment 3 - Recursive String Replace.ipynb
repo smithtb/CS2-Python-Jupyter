{
 "cells": [
  {
   "cell_type": "markdown",
   "metadata": {},
   "source": [
    "## Assignment 3 - Recursive String Replace\n",
    "\n",
    "Write a recursive method <code>findandreplace</code> that takes three parameters:\n",
    "1. a string to find\n",
    "2. a string to replace the found string with\n",
    "3. an initial string\n",
    "\n",
    "Return the initial string with every instance of the found string replaced with the replacement string.\n",
    "\n",
    "#### Note: you may *not* use loops or the built-in string methods except comparison, length, and slicing.\n",
    "\n",
    "### Recursive approach:\n",
    "If the string starts with find, return replace and findandreplace with the rest of the string, else return the first character of the string and findandreplace with the rest of the string."
   ]
  },
  {
   "cell_type": "code",
   "execution_count": null,
   "metadata": {
    "collapsed": true
   },
   "outputs": [],
   "source": [
    "from __future__ import print_function\n",
    "import unittest\n",
    "\n",
    "def run_unittest(c):\n",
    "    suite = unittest.TestLoader().loadTestsFromTestCase(c)\n",
    "    unittest.TextTestRunner().run(suite)\n",
    "\n",
    "'''\n",
    "Description:\n",
    "Author:\n",
    "Version:\n",
    "Help received from: (people, URLs, etc.)\n",
    "Help provided to:\n",
    "'''\n",
    "\n",
    "def findandreplace(find, replace, string):\n",
    "    \n",
    "    pass"
   ]
  },
  {
   "cell_type": "markdown",
   "metadata": {},
   "source": [
    "## Testing\n",
    "\n",
    "If you have properly implemented the <code>findandreplace</code> method, all following tests should pass."
   ]
  },
  {
   "cell_type": "markdown",
   "metadata": {},
   "source": [
    "## C-level work"
   ]
  },
  {
   "cell_type": "code",
   "execution_count": null,
   "metadata": {
    "collapsed": false
   },
   "outputs": [],
   "source": [
    "class test_all_none(unittest.TestCase):\n",
    "    def test(self):\n",
    "        self.assertEqual(findandreplace(None, None, None), None)\n",
    "    \n",
    "run_unittest(test_all_none)"
   ]
  },
  {
   "cell_type": "code",
   "execution_count": null,
   "metadata": {
    "collapsed": false
   },
   "outputs": [],
   "source": [
    "class test_find_none(unittest.TestCase):\n",
    "    def test(self):\n",
    "        self.assertEqual(findandreplace(None, \"a\", \"aabb\"), \"aabb\")\n",
    "    \n",
    "run_unittest(test_find_none)"
   ]
  },
  {
   "cell_type": "code",
   "execution_count": null,
   "metadata": {
    "collapsed": false
   },
   "outputs": [],
   "source": [
    "class test_find_empty(unittest.TestCase):\n",
    "    def test(self):\n",
    "        self.assertEqual(findandreplace(\"\", \"a\", \"aabb\"), \"aabb\")\n",
    "    \n",
    "run_unittest(test_find_empty)"
   ]
  },
  {
   "cell_type": "code",
   "execution_count": null,
   "metadata": {
    "collapsed": false
   },
   "outputs": [],
   "source": [
    "class test_replace_none(unittest.TestCase):\n",
    "    def test(self):\n",
    "        self.assertEqual(findandreplace(\"a\", None, \"aabb\"), \"aabb\")\n",
    "        \n",
    "run_unittest(test_replace_none)"
   ]
  },
  {
   "cell_type": "code",
   "execution_count": null,
   "metadata": {
    "collapsed": false
   },
   "outputs": [],
   "source": [
    "class test_string_none(unittest.TestCase):\n",
    "    def test(self):\n",
    "        self.assertEqual(findandreplace(\"a\", \"b\", None), None)\n",
    "    \n",
    "run_unittest(test_string_none)"
   ]
  },
  {
   "cell_type": "code",
   "execution_count": null,
   "metadata": {
    "collapsed": false
   },
   "outputs": [],
   "source": [
    "class test_simple(unittest.TestCase):\n",
    "    def test(self):\n",
    "        self.assertEqual(findandreplace(\"a\", \"b\", \"aabb\"), \"bbbb\")\n",
    "    \n",
    "run_unittest(test_simple)"
   ]
  },
  {
   "cell_type": "code",
   "execution_count": null,
   "metadata": {
    "collapsed": false
   },
   "outputs": [],
   "source": [
    "class test_remove(unittest.TestCase):\n",
    "    def test(self):\n",
    "        self.assertEqual(findandreplace(\" \", \"\", \" a abb\"), \"aabb\")\n",
    "    \n",
    "run_unittest(test_remove)"
   ]
  },
  {
   "cell_type": "code",
   "execution_count": null,
   "metadata": {
    "collapsed": false
   },
   "outputs": [],
   "source": [
    "class test_gettysburg(unittest.TestCase):\n",
    "    def test(self):\n",
    "        self.assertEqual(findandreplace(\"Four score\", \"Twenty\", \\\n",
    "            \"Four score and seven years ago\"), \"Twenty and seven years ago\")\n",
    "    \n",
    "run_unittest(test_gettysburg)"
   ]
  }
 ],
 "metadata": {
  "kernelspec": {
   "display_name": "Python [default]",
   "language": "python",
   "name": "python3"
  },
  "language_info": {
   "codemirror_mode": {
    "name": "ipython",
    "version": 3
   },
   "file_extension": ".py",
   "mimetype": "text/x-python",
   "name": "python",
   "nbconvert_exporter": "python",
   "pygments_lexer": "ipython3",
   "version": "3.6.0"
  }
 },
 "nbformat": 4,
 "nbformat_minor": 2
}
